{
 "cells": [
  {
   "cell_type": "code",
   "execution_count": null,
   "id": "f9c993eb",
   "metadata": {},
   "outputs": [],
   "source": [
    "import pandas as pd\n",
    "import requests\n",
    "import time\n",
    "import random\n",
    "from bs4 import BeautifulSoup\n",
    "from selenium import webdriver\n",
    "from selenium.webdriver.common.by import By\n",
    "from selenium.webdriver.common.keys import Keys\n",
    "from selenium.common.exceptions import StaleElementReferenceException\n",
    "from selenium.webdriver.support import expected_conditions as EC\n",
    "from selenium.webdriver.support.wait import WebDriverWait"
   ]
  },
  {
   "cell_type": "code",
   "execution_count": null,
   "id": "1c5ae683",
   "metadata": {},
   "outputs": [],
   "source": [
    "driver = webdriver.Chrome(\"\")\n",
    "url = \"https://www.jobkorea.co.kr/recruit/joblist?menucode=duty\"\n",
    "# 직무별 채용 페이지 url 지정\n",
    "driver.get(url)\n",
    "# 잡코리아 홈페이지 접속\n",
    "headers = {'User-Agent': 'Mozilla/5.0'}\n",
    "res = requests.get(driver.current_url, headers = headers)\n",
    "# 차단되었을때 우회하는 방법"
   ]
  },
  {
   "cell_type": "code",
   "execution_count": null,
   "id": "2f86ef54",
   "metadata": {},
   "outputs": [],
   "source": [
    "driver.find_element(By.XPATH, value = '//*[@id=\"devSearchForm\"]/div[2]/div/div[1]/dl[1]/dd[2]/div[2]/dl[1]/dd/div[1]/ul/li[6]').click()\n",
    "# 개발,데이터 분야 클릭"
   ]
  },
  {
   "cell_type": "code",
   "execution_count": null,
   "id": "03ab3bb2",
   "metadata": {},
   "outputs": [],
   "source": [
    "# driver.find_element(By.XPATH, value = '//*[@id=\"duty_step2_10031_ly\"]/li[1]').click()\n",
    "# driver.find_element(By.XPATH, value = '//*[@id=\"duty_step2_10031_ly\"]/li[2]').click()\n",
    "# driver.find_element(By.XPATH, value = '//*[@id=\"duty_step2_10031_ly\"]/li[4]').click()\n",
    "# driver.find_element(By.XPATH, value = '//*[@id=\"duty_step2_10031_ly\"]/li[5]').click()\n",
    "# driver.find_element(By.XPATH, value = '//*[@id=\"duty_step2_10031_ly\"]/li[8]').click()\n",
    "# driver.find_element(By.XPATH, value = '//*[@id=\"duty_step2_10031_ly\"]/li[9]').click()\n",
    "driver.find_element(By.XPATH, value = '//*[@id=\"duty_step2_10031_ly\"]/li[14]/label/span/span').click()\n",
    "# 원하는 직무 선택"
   ]
  },
  {
   "cell_type": "code",
   "execution_count": null,
   "id": "6fb8e7cf",
   "metadata": {},
   "outputs": [],
   "source": [
    "driver.find_element(By.XPATH, value = '//*[@id=\"devSearchForm\"]/div[2]/div/div[1]/dl[2]/dt').click()\n",
    "driver.find_element(By.XPATH, value = '//*[@id=\"devSearchForm\"]/div[2]/div/div[1]/dl[2]/dd[2]/div[2]/dl[1]/dd/div[1]/ul/li[1]').click()\n",
    "# 근무지역 -> 서울\n",
    "driver.find_element(By.XPATH, value = '//*[@id=\"local_step2_I000_ly\"]/li[3]').click()\n",
    "driver.find_element(By.XPATH, value = '//*[@id=\"local_step2_I000_ly\"]/li[9]').click()\n",
    "driver.find_element(By.XPATH, value = '//*[@id=\"local_step2_I000_ly\"]/li[10]').click()\n",
    "driver.find_element(By.XPATH, value = '//*[@id=\"local_step2_I000_ly\"]/li[17]').click()\n",
    "driver.find_element(By.XPATH, value = '//*[@id=\"local_step2_I000_ly\"]/li[20]').click()\n",
    "# 금천구 구로구 강남구 서초구 송파구"
   ]
  },
  {
   "cell_type": "code",
   "execution_count": null,
   "id": "870d433b",
   "metadata": {},
   "outputs": [],
   "source": [
    "driver.find_element(By.ID, value = 'dev-btn-search').click()\n",
    "# 선택된 데이터로 직업 검색 클릭\n",
    "time.sleep(3)\n",
    "# WebDriverWait(driver, 10).until(EC.presence_of_element_located((By.ID, \"bbArea\")))"
   ]
  },
  {
   "cell_type": "code",
   "execution_count": null,
   "id": "bb56dd7d",
   "metadata": {},
   "outputs": [],
   "source": [
    "company_name_list = []\n",
    "Career_list = []\n",
    "academic_list = []\n",
    "Location_list = []\n",
    "Type_list = []\n",
    "Salary_list = []\n",
    "Title_list = []\n",
    "company_url_list = []\n",
    "Title_url_list = []"
   ]
  },
  {
   "cell_type": "code",
   "execution_count": null,
   "id": "a7258b90",
   "metadata": {},
   "outputs": [],
   "source": [
    "Skill_list = []\n",
    "Address = []\n",
    "S_day_list = []\n",
    "D_day_list = []"
   ]
  },
  {
   "cell_type": "code",
   "execution_count": null,
   "id": "28e679e2",
   "metadata": {
    "lines_to_next_cell": 1
   },
   "outputs": [],
   "source": [
    "def list_select():\n",
    "    body = driver.find_element(By.ID, value = \"dev-gi-list\")\n",
    "## 원하는 body태그... 검색결과 전체\n",
    "    tr = body.find_elements(By.CLASS_NAME, value = 'devloopArea')\n",
    "## body안의 tr태그... 전체 중 한 줄(하나의 공고문)에 대한 태그\n",
    "    for tr_ in tr:\n",
    "        name = tr_.find_element(By.CSS_SELECTOR, value = 'a')\n",
    "        company_name_list.append(name.text)\n",
    "## 기업 이름 리스트 뽑기\n",
    "\n",
    "        title = tr_.find_element(By.CSS_SELECTOR, value = 'strong')\n",
    "        Title_list.append(title.text)\n",
    "## 공고문 제목 리스트 뽑기\n",
    "        \n",
    "        c_herf = tr_.find_element(By.CLASS_NAME, value = 'tplCo')\n",
    "        c_tag = c_herf.find_element(By.TAG_NAME,\"a\")\n",
    "        c_link = c_tag.get_attribute('href')\n",
    "        # 기업정보 링크 뽑기\n",
    "\n",
    "        t_herf = tr_.find_element(By.CLASS_NAME, value = 'tplTit')\n",
    "        t_tag = t_herf.find_element(By.TAG_NAME,\"a\")\n",
    "        t_link = t_tag.get_attribute('href')\n",
    "        # 공고문정보 링크 뽑기 \n",
    "        \n",
    "        company_url_list.append(c_link)\n",
    "        # 해당 기업 링크\n",
    "        Title_url_list.append(t_link)\n",
    "        # 해당 공고문 링크\n",
    "\n",
    "        page_in(t_link)\n",
    "        # 해당 공고문에 들어가 상세목록 살펴보기 ..."
   ]
  },
  {
   "cell_type": "markdown",
   "id": "6c4f6fbc",
   "metadata": {},
   "source": [
    "첫번째 a태그 ... 기업 링크, 두번째 a태그 ... 공고문 링크\n",
    "# 해당 공고문에 대한 url 링크 리스트 뽑기"
   ]
  },
  {
   "cell_type": "code",
   "execution_count": null,
   "id": "7a107ed8",
   "metadata": {
    "lines_to_next_cell": 1
   },
   "outputs": [],
   "source": [
    "    # Wait = WebDriverWait(driver, 10).until(EC.presence_of_elements_located((By.CLASS_NAME,'cell')))\n",
    "        info = tr_.find_elements(By.CLASS_NAME, value = 'cell')\n",
    "        for i in range(len(info)):\n",
    "            if i == 0:\n",
    "                Career_list.append(info[i].text)\n",
    "            elif i == 1:\n",
    "                academic_list.append(info[i].text)\n",
    "            elif i == 2:\n",
    "                Location_list.append(info[i].text)\n",
    "            elif i == 3:\n",
    "                Type_list.append(info[i].text)\n",
    "            elif len(info) < 3:\n",
    "                Type_list.append(\"\")\n",
    "            # elif i == 4:\n",
    "            #     Salary_list.append(info[i].text)\n",
    "\n",
    "            # elif len(info) != 5:\n",
    "            #     Salary_list.append('')\n",
    "\n",
    "            # Salary에 해당하는 data가 없는 부분이 있어 잠시 생략"
   ]
  },
  {
   "cell_type": "markdown",
   "id": "050cf4e4",
   "metadata": {},
   "source": [
    "table에서 class가 cell에 해당하는 정보 뽑기\n",
    "경력, 학력, 위치 등 정보 리스트 뽑기"
   ]
  },
  {
   "cell_type": "code",
   "execution_count": null,
   "id": "fd0a8d6e",
   "metadata": {
    "lines_to_next_cell": 1
   },
   "outputs": [],
   "source": [
    "def page_in(link):\n",
    "    count = 0\n",
    "    Tem = []\n",
    "    date = []\n",
    "\n",
    "    headers = {'User-Agent': 'Mozilla/5.0'}\n",
    "    response = requests.get(link,headers=headers)\n",
    "    if response.status_code == 200:\n",
    "        soup = BeautifulSoup(response.content, 'html.parser')\n",
    "\n",
    "        List = soup.find('dl',attrs={\"class\": \"tbList\"})\n",
    "        # 지원 자격 table 지정\n",
    "        address = soup.find('strong',attrs={\"class\": \"girIcn\"})\n",
    "        # 상세주소 태그 지정\n",
    "        # days = soup.find_all('dd',attrs={\"class\": \"date\"})\n",
    "\n",
    "        days = soup.select(\".date > dd\")\n",
    "\n",
    "        for day in days:\n",
    "            date.append(day.text)\n",
    "        # 공고 시작일과 마감일 ...\n",
    "        \n",
    "        dd = List.find_all('dd')\n",
    "        for i in dd:\n",
    "            if len(dd) < 3:\n",
    "                    Tem.append(\"\")\n",
    "                    count += 1\n",
    "            if count == 3:\n",
    "                break \n",
    "            else:\n",
    "                Tem.append(i.text.strip().replace(\"\\n\",\"\"))\n",
    "                count += 1\n",
    "        # 지원자격 태그에서 작업 ...\n",
    "\n",
    "    Skill_list.append(Tem[2])\n",
    "    # 필요한 스킬 ...\n",
    "\n",
    "    if address is None:\n",
    "        Address.append(\"홈페이지 참고\")\n",
    "    else:\n",
    "        Address.append(address.text)\n",
    "    # 기업의 상세주소 ...\n",
    "\n",
    "    if len(days) == 0:\n",
    "        S_day_list.append(\"상시채용\")\n",
    "        D_day_list.append(\"상시채용\")\n",
    "    else:\n",
    "        S_day_list.append(date[0])\n",
    "        # 시작일 ...\n",
    "        D_day_list.append(date[1])\n",
    "        # 마감일 ...\n",
    "\n",
    "    time.sleep(random.uniform(0,2))\n",
    "    # 잡코리아 페이지에서 접속을 막는 현상 피하기 ...\n",
    "    print(f\"page_in함수 실행\")\n",
    "# 상세목록 살펴보는 함수 ..."
   ]
  },
  {
   "cell_type": "code",
   "execution_count": null,
   "id": "88220aab",
   "metadata": {},
   "outputs": [],
   "source": [
    "def data_setup():\n",
    "    data = {'Title' : Title_list,\n",
    "        'Company' : company_name_list,\n",
    "        'Career' : Career_list,\n",
    "        'academic' : academic_list,\n",
    "        'Location' : Location_list,\n",
    "        'Type' : Type_list,\n",
    "        'Skill' : Skill_list,\n",
    "        'Address' : Address,\n",
    "        # 'Salary' : Salary_list,\n",
    "        'Company_link' : company_url_list,\n",
    "        'Title_link' : Title_url_list,\n",
    "        'S_day' : S_day_list,\n",
    "        'D_day' : D_day_list\n",
    "       }\n",
    "    job_df = pd.DataFrame(data)\n",
    "    return job_df\n",
    "\n",
    "    #데이터프레임으로 만들기"
   ]
  },
  {
   "cell_type": "code",
   "execution_count": null,
   "id": "5e251030",
   "metadata": {
    "lines_to_next_cell": 1
   },
   "outputs": [],
   "source": [
    "def page_Move(page,count):\n",
    "    page_div = driver.find_element(By.ID, value = \"dvGIPaging\")\n",
    "    page_li = page_div.find_elements(By.TAG_NAME, value = \"li\")\n",
    "    page_p = page_div.find_elements(By.TAG_NAME, value = \"p\")\n",
    "\n",
    "    if page != 0 and ((count)%10) == 0:\n",
    "        for p in page_p:\n",
    "            a_tag = p.find_elements(By.TAG_NAME, value = \"a\")\n",
    "            for a in a_tag:\n",
    "                if \"다음\" in a.text:\n",
    "                     a.click()\n",
    "        page = 0\n",
    "        # 마지막 page에서 \"다음\"을 눌러야 할때 ...\n",
    "        # ex) 10page -> \"다음\" 클릭 ...\n",
    "\n",
    "    elif page_li[page].text == str(count):\n",
    "        if page+1 >= len(page_li):\n",
    "            return None\n",
    "        # 다음 페이지가 없을때 ... None값 리턴\n",
    "        else:\n",
    "            page_li[page+1].click()\n",
    "            page += 1\n",
    "            # 다음 페이지 클릭\n",
    "\n",
    "        WebDriverWait(driver, 10).until(EC.presence_of_element_located((By.TAG_NAME, \"tbody\")))\n",
    "        # 새로운 페이지 클릭하고 새로운 요소가 생성될때까지 대기(최대 10초)\n",
    "    \n",
    "    return page"
   ]
  },
  {
   "cell_type": "markdown",
   "id": "fc64cf6a",
   "metadata": {},
   "source": [
    "페이지 이동 함수"
   ]
  },
  {
   "cell_type": "code",
   "execution_count": null,
   "id": "97194a20",
   "metadata": {},
   "outputs": [],
   "source": [
    "page = 0\n",
    "count = 1\n",
    "# 페이지 리스트 초기값\n",
    "condition = True"
   ]
  },
  {
   "cell_type": "code",
   "execution_count": null,
   "id": "4006a9cf",
   "metadata": {
    "lines_to_next_cell": 2
   },
   "outputs": [],
   "source": [
    "while condition:\n",
    "    list_select()\n",
    "    new_page = page_Move(page,count)\n",
    "\n",
    "    if new_page is None:\n",
    "        condition = False\n",
    "        # 다음 페이지가 None이면 while문 빠져나가기\n",
    "    else:\n",
    "        page = new_page\n",
    "        count += 1"
   ]
  },
  {
   "cell_type": "markdown",
   "id": "996b5cc9",
   "metadata": {},
   "source": [
    "페이지 이동을 위해 while문 반복문 사용"
   ]
  },
  {
   "cell_type": "code",
   "execution_count": null,
   "id": "6b9cf4c8",
   "metadata": {},
   "outputs": [],
   "source": [
    "driver.quit()"
   ]
  },
  {
   "cell_type": "code",
   "execution_count": null,
   "id": "01101efa",
   "metadata": {},
   "outputs": [],
   "source": [
    "data_setup().to_csv('job_list.csv',index=False)"
   ]
  }
 ],
 "metadata": {
  "jupytext": {
   "cell_metadata_filter": "-all",
   "main_language": "python",
   "notebook_metadata_filter": "-all",
   "text_representation": {
    "extension": ".py",
    "format_name": "light"
   }
  }
 },
 "nbformat": 4,
 "nbformat_minor": 5
}
